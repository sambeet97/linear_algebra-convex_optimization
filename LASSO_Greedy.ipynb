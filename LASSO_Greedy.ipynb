{
 "cells": [
  {
   "cell_type": "code",
   "execution_count": 2,
   "source": [
    "import numpy as np\r\n",
    "from numpy.linalg import inv\r\n",
    "from scipy import linalg"
   ],
   "outputs": [],
   "metadata": {}
  },
  {
   "cell_type": "code",
   "execution_count": 10,
   "source": [
    "def steepest_descent(A, b):\r\n",
    "    m,n = A.shape\r\n",
    "    if m!= n:\r\n",
    "        b = A.T@b\r\n",
    "        A = A.T@A\r\n",
    "    x = np.zeros(A.shape[0])\r\n",
    "    \r\n",
    "    for i in range(10000):\r\n",
    "        r = b - A@x\r\n",
    "\r\n",
    "        up = (np.inner(r,r))\r\n",
    "        down = (np.inner(r,A@r))\r\n",
    "        # up = r.T@r\r\n",
    "        # down = r.T@A@r\r\n",
    "        alpha = up/np.maximum(0.00001,down)\r\n",
    "        x = x + alpha * r\r\n",
    "\r\n",
    "        \r\n",
    "        if i!=0:\r\n",
    "            if abs((x-x_temp).all()) < 0.001:\r\n",
    "                print(i)\r\n",
    "                break\r\n",
    "        x_temp =x \r\n",
    "\r\n",
    "    return x"
   ],
   "outputs": [],
   "metadata": {}
  },
  {
   "cell_type": "code",
   "execution_count": 11,
   "source": [
    "A = np.array([[2.0,1.0],[5.0,7.0]])\r\n",
    "b = np.array([11.0,13.0])\r\n",
    "\r\n",
    "A = np.array([[1.  , 0.18, 0.89],\r\n",
    "       [1.  , 1.  , 0.26],\r\n",
    "       [1.  , 0.92, 0.11],\r\n",
    "       [1.  , 0.07, 0.37],\r\n",
    "       [1.  , 0.85, 0.16],\r\n",
    "       [1.  , 0.99, 0.41],\r\n",
    "       [1.  , 0.87, 0.47]])\r\n",
    "\r\n",
    "b = np.array([109.85,155.72,137.66, 76.17,139.75,162.6,151.77])"
   ],
   "outputs": [],
   "metadata": {}
  },
  {
   "cell_type": "code",
   "execution_count": 12,
   "source": [
    "def get_A_omega(A, omega):\r\n",
    "    omega = sorted(omega)\r\n",
    "    A_omega = A[:,omega]\r\n",
    "\r\n",
    "    return A_omega"
   ],
   "outputs": [],
   "metadata": {}
  },
  {
   "cell_type": "code",
   "execution_count": 13,
   "source": [
    "def OMP(A,b, non_zeros):\r\n",
    "    omega = []\r\n",
    "    x_omega = np.array([])\r\n",
    "    A_omega = get_A_omega(A, omega)\r\n",
    "\r\n",
    "    for i in range(non_zeros):\r\n",
    "\r\n",
    "        r = b - A_omega@x_omega\r\n",
    "        c = A.T@r\r\n",
    "        c= c[np.nonzero(c)]\r\n",
    "\r\n",
    "        omega.append(c.argmax())\r\n",
    "        omega = list(set(omega))\r\n",
    "\r\n",
    "        A_omega = get_A_omega(A, omega)\r\n",
    "        # x_omega= linalg.lstsq(A_omega, b)[0]\r\n",
    "        x_omega = steepest_descent(A_omega,b)\r\n",
    "    return x_omega"
   ],
   "outputs": [],
   "metadata": {}
  },
  {
   "cell_type": "code",
   "execution_count": 16,
   "source": [
    "OMP(A,b, 3)"
   ],
   "outputs": [
    {
     "output_type": "stream",
     "name": "stdout",
     "text": [
      "1\n"
     ]
    },
    {
     "output_type": "execute_result",
     "data": {
      "text/plain": [
       "array([52.41171523, 90.69316292, 46.46269338])"
      ]
     },
     "metadata": {},
     "execution_count": 16
    }
   ],
   "metadata": {}
  },
  {
   "cell_type": "code",
   "execution_count": 15,
   "source": [
    "steepest_descent(A,b)"
   ],
   "outputs": [
    {
     "output_type": "execute_result",
     "data": {
      "text/plain": [
       "array([52.41171523, 90.69316292, 46.46269338])"
      ]
     },
     "metadata": {},
     "execution_count": 15
    }
   ],
   "metadata": {}
  },
  {
   "cell_type": "code",
   "execution_count": 4,
   "source": [
    "abs(np.array([1,-2.2,2]))"
   ],
   "outputs": [
    {
     "output_type": "execute_result",
     "data": {
      "text/plain": [
       "array([1. , 2.2, 2. ])"
      ]
     },
     "metadata": {},
     "execution_count": 4
    }
   ],
   "metadata": {}
  },
  {
   "cell_type": "code",
   "execution_count": null,
   "source": [],
   "outputs": [],
   "metadata": {}
  }
 ],
 "metadata": {
  "orig_nbformat": 4,
  "language_info": {
   "name": "python",
   "version": "3.8.10",
   "mimetype": "text/x-python",
   "codemirror_mode": {
    "name": "ipython",
    "version": 3
   },
   "pygments_lexer": "ipython3",
   "nbconvert_exporter": "python",
   "file_extension": ".py"
  },
  "kernelspec": {
   "name": "python3",
   "display_name": "Python 3.8.10 64-bit ('main': conda)"
  },
  "interpreter": {
   "hash": "5e158f9bb28f7724900f36675d708188d73cf4b8a761b26c01cedb1a90ee8fbc"
  }
 },
 "nbformat": 4,
 "nbformat_minor": 2
}
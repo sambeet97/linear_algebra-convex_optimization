{
 "cells": [
  {
   "cell_type": "code",
   "execution_count": 3,
   "source": [
    "import numpy as np"
   ],
   "outputs": [],
   "metadata": {}
  },
  {
   "cell_type": "code",
   "execution_count": 12,
   "source": [
    "import numpy as np\r\n",
    "\r\n",
    "def steepest_descent(A, b):\r\n",
    "\r\n",
    "    x = np.zeros(A.shape[0])\r\n",
    "\r\n",
    "    for i in range(100000):\r\n",
    "        r = b - A@x\r\n",
    "        alpha = (np.inner(r,r))/(np.inner(r,A@r))\r\n",
    "        x = x + alpha * r\r\n",
    "    return x\r\n",
    "\r\n",
    "\r\n",
    "A = np.array([[2.0,1.0],[5.0,7.0]])\r\n",
    "b = np.array([11.0,13.0])\r\n",
    "\r\n",
    "# lambda\r\n",
    "l = 0\r\n",
    "\r\n",
    "# change b and A for rigid\r\n",
    "b = np.concatenate((b, np.zeros(A.shape[1])))\r\n",
    "A = np.concatenate((A,  np.sqrt(l)* np.identity(A.shape[1])))\r\n",
    "\r\n",
    "# Change A and b is matrix is not square\r\n",
    "m,n = A.shape\r\n",
    "if m!= n:\r\n",
    "    b = A.T@b\r\n",
    "    A = A.T@A\r\n",
    "\r\n",
    "\r\n",
    "steepest_descent(A, b)"
   ],
   "outputs": [],
   "metadata": {}
  },
  {
   "cell_type": "code",
   "execution_count": 13,
   "source": [],
   "outputs": [],
   "metadata": {}
  },
  {
   "cell_type": "code",
   "execution_count": 14,
   "source": [],
   "outputs": [
    {
     "output_type": "execute_result",
     "data": {
      "text/plain": [
       "array([ 7.11111111, -3.22222222])"
      ]
     },
     "metadata": {},
     "execution_count": 14
    }
   ],
   "metadata": {}
  }
 ],
 "metadata": {
  "orig_nbformat": 4,
  "language_info": {
   "name": "python",
   "version": "3.8.10",
   "mimetype": "text/x-python",
   "codemirror_mode": {
    "name": "ipython",
    "version": 3
   },
   "pygments_lexer": "ipython3",
   "nbconvert_exporter": "python",
   "file_extension": ".py"
  },
  "kernelspec": {
   "name": "python3",
   "display_name": "Python 3.8.10 64-bit ('main': conda)"
  },
  "interpreter": {
   "hash": "5e158f9bb28f7724900f36675d708188d73cf4b8a761b26c01cedb1a90ee8fbc"
  }
 },
 "nbformat": 4,
 "nbformat_minor": 2
}
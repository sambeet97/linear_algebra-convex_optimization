{
 "cells": [
  {
   "cell_type": "code",
   "execution_count": 1,
   "source": [
    "import numpy as np"
   ],
   "outputs": [],
   "metadata": {}
  },
  {
   "cell_type": "code",
   "execution_count": 2,
   "source": [
    "def conjugate_descend(A, b):\r\n",
    "\r\n",
    "    m,n = A.shape\r\n",
    "    if m!= n:\r\n",
    "        b = A.T@b\r\n",
    "        A = A.T@A\r\n",
    "    x = np.zeros(A.shape[0])\r\n",
    "\r\n",
    "    r = b - np.dot(A, x)\r\n",
    "    p = r\r\n",
    "    rsold = np.dot(np.transpose(r), r)\r\n",
    "    \r\n",
    "    for i in range(1000):\r\n",
    "        Ap = np.dot(A, p)\r\n",
    "        alpha = rsold / np.dot(np.transpose(p), Ap)\r\n",
    "        x = x + np.dot(alpha, p)\r\n",
    "        r = r - np.dot(alpha, Ap)\r\n",
    "        rsnew = np.dot(np.transpose(r), r)\r\n",
    "        if np.sqrt(rsnew) < 1e-8:\r\n",
    "            break\r\n",
    "        p = r + (rsnew/rsold)*p\r\n",
    "        rsold = rsnew\r\n",
    "    return x"
   ],
   "outputs": [],
   "metadata": {}
  },
  {
   "cell_type": "code",
   "execution_count": 2,
   "source": [
    "A = np.array([[1.  , 0.18, 0.89],\r\n",
    "       [1.  , 1.  , 0.26],\r\n",
    "       [1.  , 0.92, 0.11],\r\n",
    "       [1.  , 0.07, 0.37],\r\n",
    "       [1.  , 0.85, 0.16],\r\n",
    "       [1.  , 0.99, 0.41],\r\n",
    "       [1.  , 0.87, 0.47]])\r\n",
    "\r\n",
    "b = np.array([109.85,155.72,137.66, 76.17,139.75,162.6,151.77])"
   ],
   "outputs": [],
   "metadata": {}
  },
  {
   "cell_type": "code",
   "execution_count": 4,
   "source": [
    "conjugate_descend(A,b)"
   ],
   "outputs": [
    {
     "output_type": "execute_result",
     "data": {
      "text/plain": [
       "array([52.41149905, 90.69331739, 46.46296549])"
      ]
     },
     "metadata": {},
     "execution_count": 4
    }
   ],
   "metadata": {}
  },
  {
   "cell_type": "code",
   "execution_count": 6,
   "source": [],
   "outputs": [
    {
     "output_type": "execute_result",
     "data": {
      "text/plain": [
       "360.6533526809365"
      ]
     },
     "metadata": {},
     "execution_count": 6
    }
   ],
   "metadata": {}
  },
  {
   "cell_type": "code",
   "execution_count": 8,
   "source": [
    "np.linalg.norm(b-7, ord=2)/np.linalg.norm(b, ord=2)"
   ],
   "outputs": [
    {
     "output_type": "execute_result",
     "data": {
      "text/plain": [
       "0.94982043300902"
      ]
     },
     "metadata": {},
     "execution_count": 8
    }
   ],
   "metadata": {}
  },
  {
   "cell_type": "code",
   "execution_count": null,
   "source": [],
   "outputs": [],
   "metadata": {}
  }
 ],
 "metadata": {
  "orig_nbformat": 4,
  "language_info": {
   "name": "python",
   "version": "3.8.10",
   "mimetype": "text/x-python",
   "codemirror_mode": {
    "name": "ipython",
    "version": 3
   },
   "pygments_lexer": "ipython3",
   "nbconvert_exporter": "python",
   "file_extension": ".py"
  },
  "kernelspec": {
   "name": "python3",
   "display_name": "Python 3.8.10 64-bit ('main': conda)"
  },
  "interpreter": {
   "hash": "5e158f9bb28f7724900f36675d708188d73cf4b8a761b26c01cedb1a90ee8fbc"
  }
 },
 "nbformat": 4,
 "nbformat_minor": 2
}
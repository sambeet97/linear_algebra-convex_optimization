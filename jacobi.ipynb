{
 "cells": [
  {
   "cell_type": "code",
   "execution_count": 28,
   "source": [
    "import numpy as np "
   ],
   "outputs": [],
   "metadata": {}
  },
  {
   "cell_type": "code",
   "execution_count": 29,
   "source": [
    "def jacobi_50_iterations(A,b):\r\n",
    "    x = np.zeros(len(A[0]))\r\n",
    "    D = np.diag(A)\r\n",
    "    R = A - np.diagflat(D)\r\n",
    "    for i in range(100000):\r\n",
    "        x = (b - np.dot(R,x)) / D\r\n",
    "    return x"
   ],
   "outputs": [],
   "metadata": {}
  },
  {
   "cell_type": "code",
   "execution_count": 30,
   "source": [
    "A = np.array([[2.0,1.0],[5.0,7.0]])\r\n",
    "b = np.array([11.0,13.0])\r\n",
    "\r\n",
    "jacobi_50_iterations(A,b)"
   ],
   "outputs": [
    {
     "output_type": "execute_result",
     "data": {
      "text/plain": [
       "array([ 7.11111111, -3.22222222])"
      ]
     },
     "metadata": {},
     "execution_count": 30
    }
   ],
   "metadata": {}
  },
  {
   "cell_type": "code",
   "execution_count": 31,
   "source": [
    "np.linalg.solve(A,b)"
   ],
   "outputs": [
    {
     "output_type": "execute_result",
     "data": {
      "text/plain": [
       "array([ 7.11111111, -3.22222222])"
      ]
     },
     "metadata": {},
     "execution_count": 31
    }
   ],
   "metadata": {}
  },
  {
   "cell_type": "code",
   "execution_count": null,
   "source": [],
   "outputs": [],
   "metadata": {}
  }
 ],
 "metadata": {
  "orig_nbformat": 4,
  "language_info": {
   "name": "python",
   "version": "3.8.10",
   "mimetype": "text/x-python",
   "codemirror_mode": {
    "name": "ipython",
    "version": 3
   },
   "pygments_lexer": "ipython3",
   "nbconvert_exporter": "python",
   "file_extension": ".py"
  },
  "kernelspec": {
   "name": "python3",
   "display_name": "Python 3.8.10 64-bit ('main': conda)"
  },
  "interpreter": {
   "hash": "5e158f9bb28f7724900f36675d708188d73cf4b8a761b26c01cedb1a90ee8fbc"
  }
 },
 "nbformat": 4,
 "nbformat_minor": 2
}
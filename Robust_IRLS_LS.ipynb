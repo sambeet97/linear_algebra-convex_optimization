{
 "cells": [
  {
   "cell_type": "code",
   "execution_count": 2,
   "source": [
    "import numpy as np"
   ],
   "outputs": [],
   "metadata": {}
  },
  {
   "cell_type": "code",
   "execution_count": 13,
   "source": [
    "def steepest_descent(A, b):\r\n",
    "    m,n = A.shape\r\n",
    "    if m!= n:\r\n",
    "        b = A.T@b\r\n",
    "        A = A.T@A\r\n",
    "    x = np.zeros(A.shape[0])\r\n",
    "    for i in range(10000):\r\n",
    "\r\n",
    "        r = b - A@x\r\n",
    "        up = (np.inner(r,r))\r\n",
    "        down = (np.inner(r,A@r))\r\n",
    "        # up = r.T@r\r\n",
    "        # down = r.T@A@r\r\n",
    "        alpha = up/down\r\n",
    "        x_temp =x \r\n",
    "        x = x + alpha * r\r\n",
    "\r\n",
    "        if abs((x-x_temp).all()) < 0.001:\r\n",
    "            break\r\n",
    "\r\n",
    "    return x"
   ],
   "outputs": [],
   "metadata": {}
  },
  {
   "cell_type": "code",
   "execution_count": 16,
   "source": [
    "def IRLS(A, b):\r\n",
    "\r\n",
    "    w = np.identity(A.shape[0])\r\n",
    "\r\n",
    "    for i in range(10000):\r\n",
    "        if i> 0:\r\n",
    "            x_old = x\r\n",
    "\r\n",
    "        x= steepest_descent(w@A, w@b)\r\n",
    "        r = b -A@x\r\n",
    "        # r = abs(b - A.dot(x)) \r\n",
    "        r =np.maximum(0.0001,abs(r) )\r\n",
    "        # r = 1/r\r\n",
    "        r = 1/np.sqrt(r)\r\n",
    "        print(\"r\",r)\r\n",
    "        w = np.diagflat(r)\r\n",
    "        print(\"W\",w.shape)\r\n",
    "\r\n",
    "        if i> 0:\r\n",
    "            if abs((x-x_old).all()) < 0.001:\r\n",
    "                print(\"iter\", i)\r\n",
    "                break\r\n",
    "\r\n",
    "    return x "
   ],
   "outputs": [],
   "metadata": {}
  },
  {
   "cell_type": "code",
   "execution_count": 17,
   "source": [
    "A = np.array([[1.  , 0.18, 0.89],\r\n",
    "       [1.  , 1.  , 0.26],\r\n",
    "       [1.  , 0.92, 0.11],\r\n",
    "       [1.  , 0.07, 0.37],\r\n",
    "       [1.  , 0.85, 0.16],\r\n",
    "       [1.  , 0.99, 0.41],\r\n",
    "       [1.  , 0.87, 0.47]])\r\n",
    "\r\n",
    "b = np.array([109.85,155.72,137.66, 76.17,139.75,162.6,151.77])\r\n",
    "\r\n",
    "IRLS(A,b)"
   ],
   "outputs": [
    {
     "output_type": "stream",
     "name": "stdout",
     "text": [
      "r [2.0483571  1.36741144 0.55045876 2.13847363 0.59600866 0.85993046\n",
      " 0.85055451]\n",
      "W (7, 7)\n",
      "r [19.57013496  2.14118875  0.51692464  6.99235517  0.64316814  0.92711597\n",
      "  0.81192498]\n",
      "W (7, 7)\n",
      "r [87.52319089  4.37753386  0.5059782  36.29061009  0.66409724  0.99568685\n",
      "  0.77853929]\n",
      "W (7, 7)\n",
      "r [100.          22.12417115   0.5029092  100.           0.67057491\n",
      "   1.02015776   0.76906922]\n",
      "W (7, 7)\n",
      "r [100.          98.38178826   0.50277909 100.           0.67085636\n",
      "   1.02124585   0.76867167]\n",
      "W (7, 7)\n",
      "r [100.         100.           0.50278498 100.           0.67084361\n",
      "   1.02119614   0.76868978]\n",
      "W (7, 7)\n",
      "r [100.         100.           0.50278499 100.           0.67084358\n",
      "   1.02119604   0.76868981]\n",
      "W (7, 7)\n",
      "r [100.         100.           0.50278499 100.           0.67084358\n",
      "   1.02119604   0.76868981]\n",
      "W (7, 7)\n",
      "r [100.         100.           0.50278499 100.           0.67084358\n",
      "   1.02119604   0.76868981]\n",
      "W (7, 7)\n",
      "r [100.         100.           0.50278499 100.           0.67084358\n",
      "   1.02119604   0.76868981]\n",
      "W (7, 7)\n",
      "iter 9\n"
     ]
    },
    {
     "output_type": "execute_result",
     "data": {
      "text/plain": [
       "array([52.95724497, 90.923554  , 45.5354096 ])"
      ]
     },
     "metadata": {},
     "execution_count": 17
    }
   ],
   "metadata": {}
  },
  {
   "cell_type": "code",
   "execution_count": null,
   "source": [],
   "outputs": [],
   "metadata": {}
  }
 ],
 "metadata": {
  "orig_nbformat": 4,
  "language_info": {
   "name": "python",
   "version": "3.8.10",
   "mimetype": "text/x-python",
   "codemirror_mode": {
    "name": "ipython",
    "version": 3
   },
   "pygments_lexer": "ipython3",
   "nbconvert_exporter": "python",
   "file_extension": ".py"
  },
  "kernelspec": {
   "name": "python3",
   "display_name": "Python 3.8.10 64-bit ('main': conda)"
  },
  "interpreter": {
   "hash": "5e158f9bb28f7724900f36675d708188d73cf4b8a761b26c01cedb1a90ee8fbc"
  }
 },
 "nbformat": 4,
 "nbformat_minor": 2
}
{
 "cells": [
  {
   "cell_type": "code",
   "execution_count": 52,
   "source": [
    "import numpy as np"
   ],
   "outputs": [],
   "metadata": {}
  },
  {
   "cell_type": "code",
   "execution_count": 61,
   "source": [
    "A = np.array([[1.  , 0.18, 0.89],\r\n",
    "       [1.  , 1.  , 0.26],\r\n",
    "       [1.  , 0.92, 0.11],\r\n",
    "       [1.  , 0.07, 0.37],\r\n",
    "       [1.  , 0.85, 0.16],\r\n",
    "       [1.  , 0.99, 0.41],\r\n",
    "       [1.  , 0.87, 0.47]])\r\n",
    "\r\n",
    "b = np.array([109.85,155.72,137.66, 76.17,139.75,162.6,151.77])\r\n"
   ],
   "outputs": [],
   "metadata": {}
  },
  {
   "cell_type": "code",
   "execution_count": 62,
   "source": [
    "def gradient_descent(A,b):\r\n",
    "    \r\n",
    "    m,n = A.shape\r\n",
    "    if m!= n:\r\n",
    "        b = A.T@b\r\n",
    "        A = A.T@A\r\n",
    "    x = np.zeros(A.shape[0])\r\n",
    "\r\n",
    "    alpha = 0.001\r\n",
    "\r\n",
    "    for i in range (10000000):\r\n",
    "        dF = A.T@A@x - A.T@b\r\n",
    "        x_temp =x \r\n",
    "        x = x - alpha*dF  \r\n",
    "\r\n",
    "        if abs((x-x_temp).all()) < 0.0001:\r\n",
    "            print(i)\r\n",
    "            break\r\n",
    "    return x"
   ],
   "outputs": [],
   "metadata": {}
  },
  {
   "cell_type": "code",
   "execution_count": 63,
   "source": [
    "gradient_descent(A,b)"
   ],
   "outputs": [
    {
     "output_type": "stream",
     "name": "stdout",
     "text": [
      "1040002\n"
     ]
    },
    {
     "output_type": "execute_result",
     "data": {
      "text/plain": [
       "array([52.41149905, 90.69331738, 46.46296548])"
      ]
     },
     "metadata": {},
     "execution_count": 63
    }
   ],
   "metadata": {}
  },
  {
   "cell_type": "code",
   "execution_count": null,
   "source": [],
   "outputs": [],
   "metadata": {}
  }
 ],
 "metadata": {
  "orig_nbformat": 4,
  "language_info": {
   "name": "python",
   "version": "3.8.10",
   "mimetype": "text/x-python",
   "codemirror_mode": {
    "name": "ipython",
    "version": 3
   },
   "pygments_lexer": "ipython3",
   "nbconvert_exporter": "python",
   "file_extension": ".py"
  },
  "kernelspec": {
   "name": "python3",
   "display_name": "Python 3.8.10 64-bit ('main': conda)"
  },
  "interpreter": {
   "hash": "5e158f9bb28f7724900f36675d708188d73cf4b8a761b26c01cedb1a90ee8fbc"
  }
 },
 "nbformat": 4,
 "nbformat_minor": 2
}